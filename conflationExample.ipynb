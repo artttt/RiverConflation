{
 "cells": [
  {
   "cell_type": "markdown",
   "metadata": {},
   "source": [
    "Please be aware that this example needs 5 - 6 GB of RAM and approx. 40 minutes to run"
   ]
  },
  {
   "cell_type": "code",
   "execution_count": null,
   "metadata": {
    "collapsed": false
   },
   "outputs": [],
   "source": [
    "%load_ext autoreload\n",
    "%autoreload 2"
   ]
  },
  {
   "cell_type": "code",
   "execution_count": null,
   "metadata": {
    "collapsed": false
   },
   "outputs": [],
   "source": [
    "import riverConflation as rc\n",
    "import os\n",
    "import networkx as nx"
   ]
  },
  {
   "cell_type": "code",
   "execution_count": null,
   "metadata": {
    "collapsed": true
   },
   "outputs": [],
   "source": [
    "#both datasets used for testing can be downloaded here\n",
    "#http://www.bom.gov.au/water/geofabric/download.shtml\n",
    "#note the geodatabases had to be upgraded in ArcCatalog to V10+ so that gdal/fiona can read them.\n",
    "netGDB1 = r'C:\\data\\temp\\SH_Network_GDB_V2_1_1\\SH_Network_GDB\\SH_Network.gdb'\n",
    "netGDB2 =r'C:\\data\\temp\\SH_Network_GDB_V3_0_PG\\SH_Network_GDB\\SH_Network.gdb'\n",
    "pkl_path = r'C:\\data\\temp'\n",
    "#checks all nodes within at least this distance for a conflation\n",
    "#its a time saving optimisation and should be set on the large size to avoid missing the best result\n",
    "#A guide to setting this is: set it a bit bigger then the largest expected separation of conflated nodes\n",
    "#for small networks networks just set it very large\n",
    "#in projection units (1degree approx 100km)\n",
    "# a few kms is probably reasonable usually. Set low here for faster demo.\n",
    "searchRadius = 0.01\n",
    "#number of potential matches to keep for each feature\n",
    "maxMatchKeep = 10"
   ]
  },
  {
   "cell_type": "markdown",
   "metadata": {},
   "source": [
    "First thing is to read in your data. This example uses the Australian Geofabric V2 and V3 data. Other datasets would need their own customised data prep code.\n",
    "\n",
    "In the next 2 steps ignore the duplicate catchment warnings for the case of testing the code.\n",
    "I havent dealt with all the minor details of the geofabric quite right."
   ]
  },
  {
   "cell_type": "code",
   "execution_count": null,
   "metadata": {
    "collapsed": false
   },
   "outputs": [],
   "source": [
    "DG2 = rc.read_geofabric_data(netGDB2)\n",
    "rc.remove_geofabric_catch_duplicates(DG2)\n",
    "nx.write_gpickle(DG2, os.path.join(pkl_path, 'PG_conflation2.p'))\n",
    "DG2_idx = rc.build_index(DG2)"
   ]
  },
  {
   "cell_type": "code",
   "execution_count": null,
   "metadata": {
    "collapsed": false
   },
   "outputs": [],
   "source": [
    "DG1 = rc.read_geofabric_data(netGDB1,DG2_idx.bounds)\n",
    "rc.remove_geofabric_catch_duplicates(DG1)\n",
    "nx.write_gpickle(DG1, os.path.join(pkl_path, 'PG_conflation.p'))"
   ]
  },
  {
   "cell_type": "markdown",
   "metadata": {},
   "source": [
    "you can start from here by loading in the pickles that were created with the above code earlier.\n",
    "Run the imports and global variables code at the top first though"
   ]
  },
  {
   "cell_type": "code",
   "execution_count": null,
   "metadata": {
    "collapsed": false
   },
   "outputs": [],
   "source": [
    "DG1 = nx.read_gpickle(os.path.join(pkl_path, 'PG_conflation.p'))\n",
    "DG2 = nx.read_gpickle(os.path.join(pkl_path, 'PG_conflation2.p'))\n",
    "DG2_idx = rc.build_index(DG2)\n",
    "# starting from pickles = 1 minute 2GB\n",
    "#starting from scratch = 12 minutes"
   ]
  },
  {
   "cell_type": "code",
   "execution_count": null,
   "metadata": {
    "collapsed": false
   },
   "outputs": [],
   "source": [
    "#This is done seperate to finding matches because it takes a while so its nice to split it out for debugging\n",
    "#%%timeit -r1 -n1\n",
    "rc.build_overlaps(DG1,DG2,DG2_idx)\n",
    "# 15 minutes 1GB"
   ]
  },
  {
   "cell_type": "code",
   "execution_count": null,
   "metadata": {
    "collapsed": false
   },
   "outputs": [],
   "source": [
    "rc.catch_area(DG1)\n",
    "rc.catch_area(DG2)\n",
    "# 1 min"
   ]
  },
  {
   "cell_type": "markdown",
   "metadata": {},
   "source": [
    "The next step is to sum up areas to find the catchment overlap for every combination. We are only interested in the best or a short list of the overlaps that match well\n",
    "The simple approach is a brute force exhustive test of all combinations. This works well for a few thousand (75 minutes for 17k x 17k) sub catchments in each graph however it would not scale well as network sizes increase.\n",
    "\n",
    "There are a few ways to reduce the set of catchments to test for a match. One issue to keep in mind is to not make assumptions about how similar the two networks topology might be. The approach taken is to use a tunable spatial proximity limit that should be set to a size that is expected to ensure finding the best matches within that radius, setting it too small would cause missed matches, too large would just take longer.\n",
    "There is also a limit on the pairs of catchments searched based on area similarity.this works well as good matches have to, by defininition, be of a similar size.\n",
    "\n",
    "Generally the results from this method are not very sensitive to these parameters, if set conservatively, other then faster processing time.\n"
   ]
  },
  {
   "cell_type": "code",
   "execution_count": null,
   "metadata": {
    "collapsed": true
   },
   "outputs": [],
   "source": []
  },
  {
   "cell_type": "code",
   "execution_count": null,
   "metadata": {
    "collapsed": true
   },
   "outputs": [],
   "source": [
    "#%%timeit -n1 -r1\n",
    "rc.upstream_edge_set(DG2)\n",
    "#<10sec approx 2GB"
   ]
  },
  {
   "cell_type": "code",
   "execution_count": null,
   "metadata": {
    "collapsed": false
   },
   "outputs": [],
   "source": [
    "sizeRatio=0.5\n",
    "matches = rc.find_all_matches(DG1,DG2,DG2_idx,searchRadius,sizeRatio,maxMatchKeep)\n",
    "# depends on the search radius used.\n",
    "# 8 minutes with searchRadius=0.005 (500m) and a sizeRatio=0\n",
    "# 7.5 minutes with searchRadius=0.01 (1km) and a sizeRatio=0.5"
   ]
  },
  {
   "cell_type": "code",
   "execution_count": null,
   "metadata": {
    "collapsed": false
   },
   "outputs": [],
   "source": [
    "best = rc.best_match(matches)"
   ]
  },
  {
   "cell_type": "code",
   "execution_count": null,
   "metadata": {
    "collapsed": true
   },
   "outputs": [],
   "source": [
    "# simple outputs\n",
    "# more complete outputs still to be re implemented.... stay tuned."
   ]
  },
  {
   "cell_type": "code",
   "execution_count": null,
   "metadata": {
    "collapsed": false
   },
   "outputs": [],
   "source": [
    "rc.write_debug_lines(DG1,DG2,best,os.path.join(pkl_path, 'debug_lines.shp'))"
   ]
  },
  {
   "cell_type": "code",
   "execution_count": null,
   "metadata": {
    "collapsed": false
   },
   "outputs": [],
   "source": [
    "# a more refined match of nodes considering each inflow to a confluence.\n",
    "#find_all_matches needs to have saved a shortlist of matches by setting maxMatchKeep to something like 10\n",
    "node_matches = rc.confluence_matches(DG1,matches)\n",
    "rc.write_debug_lines_confluence_matches(DG1,DG2,node_matches,os.path.join(pkl_path, 'debug_lines_nodes.shp'))"
   ]
  },
  {
   "cell_type": "code",
   "execution_count": null,
   "metadata": {
    "collapsed": true
   },
   "outputs": [],
   "source": [
    "rc.write_catch(DG1,os.path.join(pkl_path, 'catch1.shp'))\n",
    "rc.write_catch(DG2,os.path.join(pkl_path, 'catch2.shp'))\n",
    "rc.write_stream(DG1,os.path.join(pkl_path, 'stream1.shp'))\n",
    "rc.write_stream(DG2,os.path.join(pkl_path, 'stream2.shp'))"
   ]
  }
 ],
 "metadata": {
  "kernelspec": {
   "display_name": "Python 2",
   "language": "python",
   "name": "python2"
  },
  "language_info": {
   "codemirror_mode": {
    "name": "ipython",
    "version": 2
   },
   "file_extension": ".py",
   "mimetype": "text/x-python",
   "name": "python",
   "nbconvert_exporter": "python",
   "pygments_lexer": "ipython2",
   "version": "2.7.9"
  }
 },
 "nbformat": 4,
 "nbformat_minor": 0
}
